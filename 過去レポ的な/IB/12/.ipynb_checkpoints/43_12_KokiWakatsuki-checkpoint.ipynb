{
 "cells": [
  {
   "cell_type": "markdown",
   "metadata": {},
   "source": [
    "# 課題"
   ]
  },
  {
   "cell_type": "markdown",
   "metadata": {},
   "source": [
    "(1). 演習1～7の内容をまとめよ．\n",
    "\n",
    "(2). 式(1)の微分方程式から式(2)の伝達関数を導出せよ．"
   ]
  },
  {
   "cell_type": "code",
   "execution_count": 1,
   "metadata": {},
   "outputs": [],
   "source": [
    "import numpy as np\n",
    "import matplotlib.pyplot as plt\n",
    "from control.matlab import *"
   ]
  },
  {
   "cell_type": "markdown",
   "metadata": {},
   "source": [
    "###### 演習1\n",
    "磁気浮上系$P(s)$は安定なシステムか, それとも不安定なシステムか. 理由も併せて判別せよ."
   ]
  },
  {
   "cell_type": "markdown",
   "metadata": {},
   "source": [
    "伝達関数の分母を展開すると, \n",
    "\n",
    "\\begin{eqnarray}\n",
    "P(s)  = \\frac{K_i}{ML_ms^3 + MR_ms^2 - K_xL_ms - K_xR_m} \\nonumber\n",
    "\\end{eqnarray}\n",
    "\n",
    "となる．\n",
    "\n",
    "この時, 係数が負である項が存在するため, 安定の必要条件を満たさない．よって不安定である．"
   ]
  },
  {
   "cell_type": "markdown",
   "metadata": {},
   "source": [
    "###### 演習2\n",
    "フィードバック制御系の一巡伝達関数$L(s) =P(s)K(s)$と閉ループ伝達関数$G(s)$を求めよ. 分母は$s$について降べきの順で整理した形にすること．"
   ]
  },
  {
   "cell_type": "markdown",
   "metadata": {},
   "source": [
    "\\begin{eqnarray}\n",
    "L(s) &=& K(s)P(s) = \\frac{K_iK_Ds + K_iK_P}{ML_ms^3 + MR_ms^2 - K_xL_ms - K_xR_m} \\nonumber\\\\ \\\\\n",
    "G(s) &=& \\frac{L(s)}{1 + L(s)} = \\frac{K_iK_Ds + K_iK_P}{ML_ms^3 + MR_ms^2 + (K_iK_D - K_xL_m)s + (K_iK_P - K_xR_m)} \\nonumber\n",
    "\\end{eqnarray}"
   ]
  },
  {
   "cell_type": "markdown",
   "metadata": {},
   "source": [
    "###### 演習3\n",
    "これらのパラメータを代入した一巡伝達関数$L(s)$と閉ループ伝達関数$G(s)$の式を書き下せ．"
   ]
  },
  {
   "cell_type": "markdown",
   "metadata": {},
   "source": [
    "\\begin{eqnarray}\n",
    "L(s) &=&  \\frac{3K_Ds + 3K_P}{0.01s^3 + 0.3s^2 - 50s - 1500} \\nonumber\\\\ \\\\\n",
    "G(s) &=& \\frac{3K_Ds + 3K_P}{0.01s^3 + 0.3s^2 + (3K_D - 50)s + (3K_P - 1500)} \\nonumber\n",
    "\\end{eqnarray}"
   ]
  },
  {
   "cell_type": "markdown",
   "metadata": {},
   "source": [
    "###### 演習4\n",
    "ラウス＝フルビッツの安定判別法のどちらかを用いて, フィードバック制御系$G(s)$が安定となるための$K_P$と$K_D$の範囲を求め, 横軸を$K_P$, 縦軸を$K_D$としたグラフ上でその範囲を図示せよ."
   ]
  },
  {
   "cell_type": "markdown",
   "metadata": {},
   "source": [
    "今回はフルビッツ法を使って$K_P$と$K_D$の範囲を求める．\n",
    "\n",
    "まず，フルビッツ法を使う前提として「特性多項式の係数が全て存在し，正である」と仮定するので，$\\displaystyle　K_D > \\frac{50}{3}$，$\\displaystyle K_P > 500$となる．\n",
    "\n",
    "フルビッツ行列$H$は以下のようになる．\n",
    "\n",
    "$H=\\begin{pmatrix}\n",
    "0.3 & 3K_P - 1500 & 0 \\\\ 0.01 & 3K_D - 50 & 0 \\\\ 0 & 0.3 & 3K_P - 1500\n",
    "\\end{pmatrix}$\n",
    "\n",
    "また，フルビッツ小行列$H_1，H_2$は以下のようになる．\n",
    "\n",
    "$H_1=0.3 > 0$\n",
    "\n",
    "$H_2=\\begin{vmatrix}\n",
    "0.3 & 3K_P-1500 \\\\ 0.01 & 3K_D - 50\n",
    "\\end{vmatrix}\n",
    "=0.9K_D - 15 - (0.03K_P - 15) = 0.9K_D - 0.03K_P$\n",
    "\n",
    "$H_2 > 0$となる条件は$0.9K_D > 0.03K_P$，つまり，$\\displaystyle K_D > \\frac{1}{30}K_P$\n",
    "\n",
    "よって，$G(s)$が安定となるための$K_P$と$K_D$の範囲は，以下のようになる．\n",
    "\n",
    "$\n",
    "\\left\\{\n",
    "\\begin{array}{l}\n",
    "\\displaystyle K_D > \\frac{1}{30}K_P \\\\\n",
    "K_P > 500\n",
    "\\end{array}\n",
    "\\right.\n",
    "$"
   ]
  },
  {
   "cell_type": "markdown",
   "metadata": {},
   "source": [
    "###### 演習5\n",
    "演習4で求めた範囲を参照し, 安定なはずの$K_P$, $K_D$について, ナイキストの安定判別法で安定性を確認せよ. "
   ]
  },
  {
   "cell_type": "code",
   "execution_count": 2,
   "metadata": {},
   "outputs": [],
   "source": [
    "K_P, K_D = 600, 25\n",
    "n = [3 * K_D, 3 * K_P]\n",
    "d = [0.01, 0.3, -50, -1500]\n",
    "L = tf(n, d)"
   ]
  },
  {
   "cell_type": "code",
   "execution_count": 3,
   "metadata": {},
   "outputs": [
    {
     "data": {
      "text/plain": [
       "array([ 70.71067812, -70.71067812, -30.        ])"
      ]
     },
     "execution_count": 3,
     "metadata": {},
     "output_type": "execute_result"
    }
   ],
   "source": [
    "pole(L)"
   ]
  },
  {
   "cell_type": "markdown",
   "metadata": {},
   "source": [
    "実部が正の極の数$U = 1$"
   ]
  },
  {
   "cell_type": "code",
   "execution_count": 4,
   "metadata": {},
   "outputs": [
    {
     "data": {
      "image/png": "[encoded data removed]",
      "text/plain": [
       "<Figure size 432x288 with 1 Axes>"
      ]
     },
     "metadata": {
      "needs_background": "light"
     },
     "output_type": "display_data"
    }
   ],
   "source": [
    "real, imag, w = nyquist(L)"
   ]
  },
  {
   "cell_type": "markdown",
   "metadata": {},
   "source": [
    "点（-1, 0）を反時計回りに回る回数$N = 1$\n",
    "\n",
    "よって, $N = U$より, フィードバック制御は安定である．"
   ]
  },
  {
   "cell_type": "markdown",
   "metadata": {},
   "source": [
    "###### 演習6\n",
    "演習4で求めた範囲を参照し, 安定な場合と安定じゃない場合の$K_P$, $K_D$を選び, それぞれについてステップ応答を確認せよ."
   ]
  },
  {
   "cell_type": "code",
   "execution_count": 5,
   "metadata": {},
   "outputs": [],
   "source": [
    "K_P_1, K_D_1 = 600, 25\n",
    "K_P_2, K_D_2 = 600, 15\n",
    "\n",
    "n_G_1 = [3 * K_D_1, 3 * K_P_1]\n",
    "n_G_2 = [3 * K_D_2, 3 * K_P_2]\n",
    "\n",
    "d_G_1 = [0.01, 0.3, 3 * K_D_1 - 50, 3 * K_P_1 -1500]\n",
    "d_G_2 = [0.01, 0.3, 3 * K_D_2 - 50, 3 * K_P_2 -1500]\n",
    "\n",
    "G_1 = tf(n_G_1, d_G_1)\n",
    "G_2 = tf(n_G_2, d_G_2)"
   ]
  },
  {
   "cell_type": "code",
   "execution_count": 6,
   "metadata": {},
   "outputs": [],
   "source": [
    "t = np.linspace(0, 1, 100)"
   ]
  },
  {
   "cell_type": "code",
   "execution_count": 7,
   "metadata": {},
   "outputs": [],
   "source": [
    "y_1, t = step(G_1, t)\n",
    "y_2, t = step(G_2, t)"
   ]
  },
  {
   "cell_type": "code",
   "execution_count": 8,
   "metadata": {},
   "outputs": [
    {
     "data": {
      "image/png": "[encoded data removed]",
      "text/plain": [
       "<Figure size 432x288 with 1 Axes>"
      ]
     },
     "metadata": {
      "needs_background": "light"
     },
     "output_type": "display_data"
    }
   ],
   "source": [
    "plt.plot(t, y_1, label=\"$K_P = 600, K_D = 25$\")\n",
    "plt.xlabel(\"$t$ [s]\")\n",
    "plt.ylabel(\"Step responce\")\n",
    "plt.legend()\n",
    "plt.grid()\n",
    "plt.show()"
   ]
  },
  {
   "cell_type": "markdown",
   "metadata": {},
   "source": [
    "$K_P = 600, K_D = 25$は安定な場合の値なので，ステップ応答の振動は次第に緩やかになる．"
   ]
  },
  {
   "cell_type": "code",
   "execution_count": 9,
   "metadata": {},
   "outputs": [
    {
     "data": {
      "image/png": "[encoded data removed]",
      "text/plain": [
       "<Figure size 432x288 with 1 Axes>"
      ]
     },
     "metadata": {
      "needs_background": "light"
     },
     "output_type": "display_data"
    }
   ],
   "source": [
    "plt.plot(t, y_2, label=\"$K_P = 600, K_D = 15$\")\n",
    "plt.xlabel(\"$t$ [s]\")\n",
    "plt.ylabel(\"Step responce\")\n",
    "plt.legend()\n",
    "plt.grid()\n",
    "plt.show()"
   ]
  },
  {
   "cell_type": "markdown",
   "metadata": {},
   "source": [
    "$K_P = 600, K_D = 15$は不安定な場合の値なので，ステップ応答の振動は発散する．"
   ]
  },
  {
   "cell_type": "markdown",
   "metadata": {},
   "source": [
    "###### 演習7\n",
    "演習3で求めた閉ループ伝達関数$G(s)$を元に, 目標値を1とした場合, つまり$u(t) = 1$（ステップ入力）とした場合の$\\delta x(t)$の最終値$x_\\infty$を$K_P$, $K_D$の式で求めよ. （$L[\\delta x(t)] = X(s) = G(s)U(s)$である）"
   ]
  },
  {
   "cell_type": "markdown",
   "metadata": {},
   "source": [
    "\\begin{eqnarray}\n",
    "x_\\infty &=& \\lim_{t \\to \\infty}\\delta x(t) \\nonumber\\\\\n",
    "&=& \\lim_{s \\to 0}sX(s) \\nonumber\\\\\n",
    "&=& \\lim_{s \\to 0}sG(s)U(s) \\nonumber\\\\\n",
    "&=& \\lim_{s \\to 0}G(s) \\nonumber\\\\\n",
    "&=& \\frac{3K_P}{3K_P - 1500} \\nonumber\\\\\n",
    "&=& \\frac{K_P}{K_P - 500} > 1 \\nonumber\n",
    "\\end{eqnarray}"
   ]
  },
  {
   "cell_type": "markdown",
   "metadata": {},
   "source": [
    "###### 式(1)の微分方程式から式(2)の伝達関数を導出せよ．"
   ]
  },
  {
   "cell_type": "markdown",
   "metadata": {},
   "source": [
    "$X(s) = \\mathcal{ L }[\\delta x(t)]$，$V(s) = \\mathcal{ L }[\\delta v(t)]$，$I(s) = \\mathcal{ L }[\\delta i(t)]$として(1)式をラプラス変換すると以下のようになる．\n",
    "\n",
    "\\begin{eqnarray}\n",
    "M\\{s^2X(s)-s\\delta x(0) - \\delta' x(0)\\} &=& K_xX(s) + K_iI(s)\\nonumber\\\\\n",
    "L_m\\{sI(s) - \\delta i(0)\\} + R_mI(s) &=& V(s)\\nonumber\n",
    "\\end{eqnarray}\n",
    "\n",
    "この時，$x(0) = x_0，i(0) = i_0，v(0) = v_0$であることから，$\\delta x(0) = \\delta' x(0) = \\delta i(0) = 0$となるので，\n",
    "\n",
    "\\begin{eqnarray}\n",
    "Ms^2X(s) &=& K_xX(s) + K_iI(s)\\nonumber\\\\\n",
    "L_msI(s) + R_mI(s) &=& V(s)\\nonumber\n",
    "\\end{eqnarray}\n",
    "\n",
    "となる．\n",
    "\n",
    "$X(s)，V(s)$について整理すると，次のようになる．\n",
    "\n",
    "\\begin{eqnarray}\n",
    "X(s) &=& \\frac{K_iI(s)}{Ms^2 - K_x}\\nonumber\\\\\n",
    "V(s) &=& (L_ms + R_m)I(s)\\nonumber\n",
    "\\end{eqnarray}\n",
    "\n",
    "$P(s) = X(s)\\ /\\ V(s)$として伝達関数を計算すると以下のようになる．\n",
    "\n",
    "\\begin{eqnarray}\n",
    "P(s) = X(s)\\ / \\ V(s) = \\frac{K_i}{(Ms^2 - K_x)(L_ms + R_m)}\\nonumber\n",
    "\\end{eqnarray}"
   ]
  }
 ],
 "metadata": {
  "kernelspec": {
   "display_name": "Python 3",
   "language": "python",
   "name": "python3"
  },
  "language_info": {
   "codemirror_mode": {
    "name": "ipython",
    "version": 3
   },
   "file_extension": ".py",
   "mimetype": "text/x-python",
   "name": "python",
   "nbconvert_exporter": "python",
   "pygments_lexer": "ipython3",
   "version": "3.8.8"
  }
 },
 "nbformat": 4,
 "nbformat_minor": 2
}
