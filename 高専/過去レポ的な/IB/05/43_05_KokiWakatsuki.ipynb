{
 "cells": [
  {
   "cell_type": "markdown",
   "metadata": {},
   "source": [
    "# 課題"
   ]
  },
  {
   "cell_type": "markdown",
   "metadata": {},
   "source": [
    "1. $P(s)$の安定性を判定せよ．\n",
    "2. 講義資料5-4の図1の比例制御を施したときのフィードバック制御系の伝達関数$G(s)$を求めよ．\n",
    "3. フルビッツ法かラウス法を使って，フィードバック制御系が安定となるためのKの条件を求めよ．（過程全てを書かなくてよいが，$H_2$,$H_3$の式や，ラウス数列の1列目は書くように．）\n",
    "4. Python-controlを使って$K$が安定条件を満たす場合と満たさない場合それぞれのステップ応答を調べ，求めた条件が正しいことを確かめよ（条件の境界ピッタリじゃない方が良い）"
   ]
  },
  {
   "cell_type": "markdown",
   "metadata": {},
   "source": [
    "### (1) $P(s)$の安定性を判定せよ．"
   ]
  },
  {
   "cell_type": "markdown",
   "metadata": {},
   "source": [
    "安定性の必要条件である「伝達関数の特性多項式の係数が全て正である」を満たしていないため，不安定である．"
   ]
  },
  {
   "cell_type": "markdown",
   "metadata": {},
   "source": [
    "### (2) 講義資料5-4の図1の比例制御を施したときのフィードバック制御系の伝達関数$G(s)$を求めよ．"
   ]
  },
  {
   "cell_type": "markdown",
   "metadata": {},
   "source": [
    "$G(s) = \\displaystyle\\frac{K \\cdot P(s)}{1 + K \\cdot P(s)} = \\frac{K(s - 1)}{s^4 + s^3 + 2s^2 + (K-2)s + (4 - K)}$"
   ]
  },
  {
   "cell_type": "markdown",
   "metadata": {},
   "source": [
    "### (3) フルビッツ法かラウス法を使って，フィードバック制御系が安定となるためのKの条件を求めよ．（過程全てを書かなくてよいが，$H_2$,$H_3$の式や，ラウス数列の1列目は書くように．）"
   ]
  },
  {
   "cell_type": "markdown",
   "metadata": {},
   "source": [
    "伝達関数$G(s)$の特性多項式$D(s)$は$s^4 + s^3 + 2s^2 + (K-2)s + (4 - K)$である．\n",
    "\n",
    "今回はフルビッツ法を使ってKの条件を求める．\n",
    "\n",
    "フルビッツ行列$H$は以下のようになる．\n",
    "\n",
    "$H=\\begin{pmatrix}\n",
    "1 & K-2 & 0 & 0 \\\\ 1 & 2 & 4-K & 0 \\\\ 0 & 1 & K-2 & 0 \\\\ 0 & 1 & 2 & 4-K\n",
    "\\end{pmatrix}$\n",
    "\n",
    "フルビッツ小行列$H_1，H_2，H_3$は以下のようになる．\n",
    "\n",
    "$H_1=1$\n",
    "\n",
    "$H_2=\\begin{vmatrix}\n",
    "1 & K-2 \\\\ 1 & 2\n",
    "\\end{vmatrix}\n",
    "=4-K$\n",
    "\n",
    "$H_3=\\begin{vmatrix}\n",
    "1 & K-2 & 0 \\\\ 1 & 2 & 4-K \\\\ 0 & 1 & K-2\n",
    "\\end{vmatrix}\n",
    "=-K^2+7K-12$\n",
    "\n",
    "$H_2 > 0$かつ$H_3 > 0$となる条件は\n",
    "\n",
    "$3 < K < 4$"
   ]
  },
  {
   "cell_type": "markdown",
   "metadata": {},
   "source": [
    "### (4) Python-controlを使って$K$が安定条件を満たす場合と満たさない場合それぞれのステップ応答を調べ，求めた条件が正しいことを確かめよ（条件の境界ピッタリじゃない方が良い）"
   ]
  },
  {
   "cell_type": "code",
   "execution_count": 1,
   "metadata": {},
   "outputs": [],
   "source": [
    "import numpy as np\n",
    "import matplotlib.pyplot as plt\n",
    "from control.matlab import *\n",
    "t = np.linspace(0, 100, 1000)"
   ]
  },
  {
   "cell_type": "code",
   "execution_count": 2,
   "metadata": {},
   "outputs": [],
   "source": [
    "K1 = 2.9\n",
    "K2 = 3.5\n",
    "K3 = 4.1\n",
    "\n",
    "n1 = [K1, -K1]\n",
    "n2 = [K2, -K2]\n",
    "n3 = [K3, -K3]\n",
    "\n",
    "d1 = [1, 1, 2, K1-2, 4-K1]\n",
    "d2 = [1, 1, 2, K2-2, 4-K2]\n",
    "d3 = [1, 1, 2, K3-2, 4-K3]\n",
    "\n",
    "\n",
    "P1 = tf(n1, d1)\n",
    "P2 = tf(n2, d2)\n",
    "P3 = tf(n3, d3)"
   ]
  },
  {
   "cell_type": "code",
   "execution_count": 3,
   "metadata": {},
   "outputs": [],
   "source": [
    "y1, t = step(P1, t)\n",
    "y2, t = step(P2, t)\n",
    "y3, t = step(P3, t)"
   ]
  },
  {
   "cell_type": "code",
   "execution_count": 4,
   "metadata": {},
   "outputs": [
    {
     "data": {
      "image/png": "[encoded data removed]",
      "text/plain": [
       "<Figure size 432x288 with 1 Axes>"
      ]
     },
     "metadata": {
      "needs_background": "light"
     },
     "output_type": "display_data"
    }
   ],
   "source": [
    "plt.plot(t, y1, label=\"K=2.9\", color=\"green\", linestyle=\"--\")\n",
    "plt.plot(t, y2, label=\"K=3.5\", color=\"blue\")\n",
    "plt.plot(t, y3, label=\"K=4.1\", color=\"red\", linestyle=\"-.\")\n",
    "plt.xlabel(\"t [s]\")\n",
    "plt.ylabel(\"Y(s)\")\n",
    "plt.legend()\n",
    "plt.grid()\n",
    "plt.show()"
   ]
  },
  {
   "cell_type": "markdown",
   "metadata": {},
   "source": [
    "グラフより，$3<K<4$のときシステムが安定し，範囲外では不安定になることがわかる．"
   ]
  }
 ],
 "metadata": {
  "kernelspec": {
   "display_name": "Python 3",
   "language": "python",
   "name": "python3"
  },
  "language_info": {
   "codemirror_mode": {
    "name": "ipython",
    "version": 3
   },
   "file_extension": ".py",
   "mimetype": "text/x-python",
   "name": "python",
   "nbconvert_exporter": "python",
   "pygments_lexer": "ipython3",
   "version": "3.8.8"
  }
 },
 "nbformat": 4,
 "nbformat_minor": 2
}
