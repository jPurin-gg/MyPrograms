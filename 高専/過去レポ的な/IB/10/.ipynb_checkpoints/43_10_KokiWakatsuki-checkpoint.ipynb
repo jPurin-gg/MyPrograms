{
 "cells": [
  {
   "cell_type": "markdown",
   "metadata": {},
   "source": [
    "# 課題"
   ]
  },
  {
   "cell_type": "markdown",
   "metadata": {},
   "source": [
    "一巡伝達関数$L_1(s)$が次式で表されるシステムについて，Python-contorolを使って$K=2，$"
   ]
  },
  {
   "cell_type": "markdown",
   "metadata": {},
   "source": [
    "\\begin{eqnarray}\n",
    "G(s) &=& \\frac{s}{(s+1)(s+10)} \\nonumber \\\\ \\nonumber\n",
    "&=& \\frac{s}{10} \\cdot \\frac{1}{s+1} \\cdot \\frac{1}{0.1s+1} \\nonumber\n",
    "\\end{eqnarray}"
   ]
  },
  {
   "cell_type": "code",
   "execution_count": 1,
   "metadata": {},
   "outputs": [],
   "source": [
    "import numpy as np\n",
    "import matplotlib.pyplot as plt\n",
    "from control.matlab import *"
   ]
  }
 ],
 "metadata": {
  "kernelspec": {
   "display_name": "Python 3",
   "language": "python",
   "name": "python3"
  },
  "language_info": {
   "codemirror_mode": {
    "name": "ipython",
    "version": 3
   },
   "file_extension": ".py",
   "mimetype": "text/x-python",
   "name": "python",
   "nbconvert_exporter": "python",
   "pygments_lexer": "ipython3",
   "version": "3.8.8"
  }
 },
 "nbformat": 4,
 "nbformat_minor": 2
}
